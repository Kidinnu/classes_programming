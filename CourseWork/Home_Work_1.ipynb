{
 "cells": [
  {
   "cell_type": "markdown",
   "metadata": {},
   "source": [
    "# Задание 1\n",
    "\n",
    "Игра \"Жизнь\"\n",
    "\n",
    "Задание в конце презентации: \n",
    "https://drive.google.com/file/d/0B8W8o1Z482f6NXFxRXFWMjY1eTA/view"
   ]
  },
  {
   "cell_type": "markdown",
   "metadata": {},
   "source": [
    "# Задание 2\n",
    "Для заданного списка\n",
    "$$\n",
    "x = (x_0, x_1, x_2, x_3, \\ldots, x_n)\n",
    "$$\n",
    "и диапазона \n",
    "$$\n",
    "x_{min} < x_{nom} < x_{max}\n",
    "$$\n",
    "Построить список пар\n",
    "$$\n",
    "    [ (\\Delta x_1^{b}, \\Delta x_1^{nom}), (\\Delta x_2^{b}, \\Delta x_2^{nom}), \\ldots, (\\Delta x_n^{b}, \\Delta x_n^{nom})]\n",
    "$$\n",
    "где $\\Delta x_i^{b}$ -- расстояние от $x_i$ до ближайшей границы диапазона с учётом знака, $\\Delta x_i^{nom}$ -- расстояние от $x_i$ до номинального значения $x_{nom}$."
   ]
  },
  {
   "cell_type": "code",
   "execution_count": 15,
   "metadata": {},
   "outputs": [
    {
     "name": "stdout",
     "output_type": "stream",
     "text": [
      "None\n"
     ]
    },
    {
     "data": {
      "text/plain": [
       "[(0.5, 1.5), (-0.5, 0.5), (0, 0), (0, -1), (2, 3)]"
      ]
     },
     "execution_count": 15,
     "metadata": {},
     "output_type": "execute_result"
    }
   ],
   "source": [
    "def distances(x, bounds):\n",
    "    #  \n",
    "    # здесь Ваш код\n",
    "    # res = None\n",
    "    return res\n",
    "\n",
    "x = (10.5, 11.5, 12, 13, 9)\n",
    "\n",
    "xmin = 11\n",
    "xnom = 12\n",
    "xmax = 13\n",
    "\n",
    "d = distances(x, (xmin,xnom,xmax) )\n",
    "print(d)\n",
    "\n",
    "[ (0.5, 1.5), (-0.5,0.5), (0, 0), (0, -1), (2, 3) ]"
   ]
  },
  {
   "cell_type": "markdown",
   "metadata": {},
   "source": [
    "# Задание 3\n",
    "\n",
    "Табличная функция задана двумя списками: списком агрументов \n",
    "$$\n",
    "    x = (x_0, x_1, \\ldots, x_n)\n",
    "$$\n",
    "и списком значений функции\n",
    "$$\n",
    "    y = (y_0, y_1, \\ldots, y_n)    \n",
    "$$\n",
    "где \n",
    "$$\n",
    " y_i = f(x_i), \\quad i=1,2,3,\\ldots,n\n",
    "$$"
   ]
  },
  {
   "cell_type": "code",
   "execution_count": 7,
   "metadata": {},
   "outputs": [
    {
     "name": "stdout",
     "output_type": "stream",
     "text": [
      "0\n"
     ]
    }
   ],
   "source": [
    "def interpolate(xtable, ytable, xi):\n",
    "    # ...\n",
    "    # Здесь Ваш код\n",
    "    # ...\n",
    "    # yi =     \n",
    "    return yi\n",
    "\n",
    "    \n",
    "# Использование функции для f(x) = x*x\n",
    "\n",
    "x = list([0, 1, 2, 3,  4,  5])\n",
    "y = list([0, 1, 4, 9, 16, 25])\n",
    "\n",
    "yi = interpolate(x, y, 4.2)\n",
    "\n",
    "print(yi) "
   ]
  },
  {
   "cell_type": "code",
   "execution_count": null,
   "metadata": {
    "collapsed": true
   },
   "outputs": [],
   "source": []
  }
 ],
 "metadata": {
  "kernelspec": {
   "display_name": "Python [default]",
   "language": "python",
   "name": "python3"
  },
  "language_info": {
   "codemirror_mode": {
    "name": "ipython",
    "version": 3
   },
   "file_extension": ".py",
   "mimetype": "text/x-python",
   "name": "python",
   "nbconvert_exporter": "python",
   "pygments_lexer": "ipython3",
   "version": "3.5.4"
  }
 },
 "nbformat": 4,
 "nbformat_minor": 2
}
