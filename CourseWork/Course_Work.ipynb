{
 "cells": [
  {
   "cell_type": "markdown",
   "metadata": {},
   "source": [
    "# Задание для курсовой работы "
   ]
  },
  {
   "cell_type": "markdown",
   "metadata": {},
   "source": [
    "## Задание 1 \"Жизнь\" "
   ]
  },
  {
   "cell_type": "markdown",
   "metadata": {},
   "source": [
    "Разработать программу игры \"Жизнь\" на замкнутой поверхности (на торе) размером N x M. Начальная конфигурация колонии задается в текстовом файле в виде пар координат клеток. Программа должна\n",
    "\n",
    "Используемые пакеты и модули: numpy, matplotlib"
   ]
  },
  {
   "cell_type": "markdown",
   "metadata": {},
   "source": [
    "## Задание 2 \"Экспансия\""
   ]
  },
  {
   "cell_type": "markdown",
   "metadata": {},
   "source": [
    "Даны координаты и расстояния до ближайших к Солнцу звёзд (файл: http://www.astronexus.com/files/downloads/hygdata_v3.csv.gz). \n",
    "\n",
    "1. Для заданного количества n ближайших звёзд определить наиболее оптимальный маршрут облёта всех n звёзд. \n",
    "\n",
    "2. Построить таблицу перелёта, в каждой строке которой должны быть указана точка отправления (имя звезды), точка прибытия, расстояние в световых годах, время перелёта по часам корабля, время перелёта по часам \"Земли\".\n",
    "\n",
    "3. Пройденный кораблём путь, итоговая продолжительность полёта по часам корабля и Земли.\n",
    "\n",
    "От звезды к звезде корабль половину пути движется с посоянным ускорением $a$, равным ускорению силы тяжести на Земле, вторую половину пути с замедлением, также равным ускорению силы тяжести на Земле. Время перелёта на расстояние $S$ по часам корабля определяется следующей формулой:\n",
    "$$\n",
    "t = \\frac{2c}{a} \\text{arcch } \\left( 1 + \\frac{a S}{2 c^2} \\right)\n",
    "$$\n",
    "\n",
    "Используемые пакеты и модули: math, numpy, scipy  "
   ]
  },
  {
   "cell_type": "markdown",
   "metadata": {},
   "source": [
    "## Задание 3 \"Орбита\""
   ]
  },
  {
   "cell_type": "markdown",
   "metadata": {},
   "source": [
    "Разработать программу (набор функций) для решения задач астродинамики. "
   ]
  },
  {
   "cell_type": "markdown",
   "metadata": {},
   "source": [
    "## Задание 4 \"Система тел\""
   ]
  },
  {
   "cell_type": "markdown",
   "metadata": {},
   "source": [
    "Разработать программу для определения положения центра масс и моментов инерции системы твердых тел, состоящей из материальных точек, параллепипедов, сфер, цилиндров. \n",
    "\n",
    "1. Положение цента масс каждого тела системы задаётся относительно неподвижной системы координат. Для цилиндра задается направление его оси в виде вектора: [1, 0, 0] - ось цилиндра направлена вдоль оси x неподвижной СК, [0, 1, 0] - ось цилиндра направлена вдоль оси y неподвижной СК, [0, 0, 1] - ось цилиндра направлена вдоль оси z неподвижной СК.\n",
    "\n",
    "2. Положение центра масс системы определяется выражением\n",
    "$$\n",
    "x_c = \\frac{\\sum_{i=1}^n x_{ic} m_i}{M}, y_c = \\frac{\\sum_{i=1}^n y_{ic} m_i}{M}, z_c = \\frac{\\sum_{i=1}^n z_{ic} m_i}{M}\n",
    "$$\n",
    "где $M$ -- масса всей системы\n",
    "$$\n",
    "M = \\sum_{i=1}^n m_i\n",
    "$$\n",
    "\n",
    "3. Каждое тело (class) должно переопределять метод \\__str\\__ для печати на экран его типа (цилиндр, точка, ...), положения центра масс, массы и собственных моментов инерции.\n",
    "\n",
    "4. Класс "
   ]
  },
  {
   "cell_type": "code",
   "execution_count": 7,
   "metadata": {
    "collapsed": false
   },
   "outputs": [],
   "source": [
    "# Заготовка \n",
    "\n",
    "class Point_mass:\n",
    "    def __init__(self, position, mass):\n",
    "        pass\n",
    "\n",
    "class Sphere(Point_mass):\n",
    "    def __init__(self, position, mass, radius):\n",
    "        pass\n",
    "    \n",
    "class Cuboid(Point_mass):\n",
    "    def __init__(self, position, mass, dx, dy, dz):\n",
    "        pass\n",
    "\n",
    "class Cylinder(Point_mass):    \n",
    "    def __init__(self, position, mass, radius, height, axis_orientation):       \n",
    "        pass\n",
    "        \n",
    "#         \n",
    "class Multibody_System:\n",
    "    \n",
    "    def add_body():\n",
    "        pass\n",
    "    \n",
    "    def get_cm_position():\n",
    "        pass\n",
    "    \n",
    "    def get_moments_of_inertia():\n",
    "        pass   \n",
    "    \n",
    "# Функции \n",
    "def draw_System_xy(multibody_System):\n",
    "    pass\n",
    "\n",
    "def draw_System_yz(multibody_System):\n",
    "    pass\n",
    "\n",
    "def draw_System_xz(multibody_System):\n",
    "    pass"
   ]
  },
  {
   "cell_type": "markdown",
   "metadata": {},
   "source": [
    "## Задание 5 \"Ракета\" "
   ]
  },
  {
   "cell_type": "code",
   "execution_count": null,
   "metadata": {
    "collapsed": true
   },
   "outputs": [],
   "source": []
  },
  {
   "cell_type": "markdown",
   "metadata": {},
   "source": [
    "## Задание 6 \"Монте-Карло\""
   ]
  },
  {
   "cell_type": "code",
   "execution_count": null,
   "metadata": {
    "collapsed": true
   },
   "outputs": [],
   "source": []
  },
  {
   "cell_type": "markdown",
   "metadata": {},
   "source": [
    "## Задание 7 \"Фазы Луны\""
   ]
  },
  {
   "cell_type": "code",
   "execution_count": null,
   "metadata": {
    "collapsed": true
   },
   "outputs": [],
   "source": []
  },
  {
   "cell_type": "markdown",
   "metadata": {},
   "source": [
    "## Задание 8 \"Спутники Юпитера\""
   ]
  },
  {
   "cell_type": "markdown",
   "metadata": {},
   "source": [
    "1. \n",
    "2. Методика определния положений спутников для заданной даты: \n",
    "3. Нарисовать положение спутников Юпитера (с использование библиотеки matplotlib)"
   ]
  },
  {
   "cell_type": "markdown",
   "metadata": {},
   "source": [
    "## Задание 9. \"Лепестки Ириса\""
   ]
  },
  {
   "cell_type": "code",
   "execution_count": null,
   "metadata": {
    "collapsed": true
   },
   "outputs": [],
   "source": []
  },
  {
   "cell_type": "markdown",
   "metadata": {},
   "source": [
    "## Задание 10. \"Пересечение полигонов\""
   ]
  },
  {
   "cell_type": "markdown",
   "metadata": {},
   "source": [
    "Разработать программу определения пересечения выпуклых многогранников, заданных координатами точек. Ниже представлены _возможные_ варианты определения классов, используемых в программе. Метод _intersection_ класса _Polygon_ должен возвращать объект типа _Polygon_, образованный пересечением двух полигонов или *Null* если многогранники не пересекаются."
   ]
  },
  {
   "cell_type": "code",
   "execution_count": 13,
   "metadata": {
    "collapsed": false
   },
   "outputs": [],
   "source": [
    "class Point:\n",
    "    def __init__(self, x, y):\n",
    "        self.x = x\n",
    "        self.y = y\n",
    "class Polygon:\n",
    "    def __init__(self, points):\n",
    "        pass\n",
    "    \n",
    "    def intersection(self, other_polygon):\n",
    "        # \n",
    "        return intersection_polygon"
   ]
  },
  {
   "cell_type": "markdown",
   "metadata": {},
   "source": [
    "## Задание 11. \"Центр масс системы точек\" "
   ]
  },
  {
   "cell_type": "markdown",
   "metadata": {},
   "source": [
    "На плоскости задана декартова система координат. Расположить на плоскости систему материальных точек с координатами $x_i$, $y_i$ и массой $m_i$ так, чтобы центр масс этой системы точек находился в начале координат. Все точки должны находится внутри квадрата со стороной $a$.\n",
    "\n",
    "Для решения задачи необходимо минимизиовать функцию суммы квадратов координат центра масс системы\n",
    "$$\n",
    "F(x_1, y_1, x_2, y_2, \\ldots, x_n, y_n) = x_c^2 + y_c^2\n",
    "$$\n",
    "где \n",
    "$$\n",
    "x_c = \\frac{\\sum_{i=1}^n x_{i} m_i}{M}, \\quad y_c = \\frac{\\sum_{i=1}^n y_{i} m_i}{M},\\quad M = \\sum_{i=1}^n m_i\n",
    "$$\n",
    "\n",
    "Для решения задачи использовать покоординатный метод поиска.\n",
    "После нахождения локального минимума для заданного начального положения точек, построить рисунок с расположением точек. "
   ]
  },
  {
   "cell_type": "markdown",
   "metadata": {},
   "source": [
    "## Задание 12. "
   ]
  },
  {
   "cell_type": "code",
   "execution_count": null,
   "metadata": {
    "collapsed": true
   },
   "outputs": [],
   "source": []
  },
  {
   "cell_type": "code",
   "execution_count": null,
   "metadata": {
    "collapsed": true
   },
   "outputs": [],
   "source": []
  }
 ],
 "metadata": {
  "kernelspec": {
   "display_name": "Python [default]",
   "language": "python",
   "name": "python3"
  },
  "language_info": {
   "codemirror_mode": {
    "name": "ipython",
    "version": 3
   },
   "file_extension": ".py",
   "mimetype": "text/x-python",
   "name": "python",
   "nbconvert_exporter": "python",
   "pygments_lexer": "ipython3",
   "version": "3.5.2"
  }
 },
 "nbformat": 4,
 "nbformat_minor": 2
}
