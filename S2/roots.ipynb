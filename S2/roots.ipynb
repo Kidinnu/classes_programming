{
 "cells": [
  {
   "cell_type": "markdown",
   "metadata": {},
   "source": [
    "# Решение квадратного уравнения"
   ]
  },
  {
   "cell_type": "markdown",
   "metadata": {},
   "source": [
    "## Вариант 1"
   ]
  },
  {
   "cell_type": "code",
   "execution_count": 27,
   "metadata": {
    "collapsed": false
   },
   "outputs": [
    {
     "name": "stdout",
     "output_type": "stream",
     "text": [
      "Решение квадратного уравнения вида a x**2 + b*x + c = 0\n",
      "Введите коэффициент a = 1\n",
      "Введите коэффициент b = 10\n",
      "Введите коэффициент c = 3\n",
      "\n",
      "Корни квадратного уравнения 1.0*x**2 + 10.0*x + 3.0 = 0\n",
      "x1 = -0.310, \n",
      "x2 = -9.690\n"
     ]
    }
   ],
   "source": [
    "import math\n",
    "\n",
    "def get_roots(a, b, c):\n",
    "    d  = b**2 - 4*a*c\n",
    "    x1 = (-b + math.sqrt(d))/(2*a)\n",
    "    x2 = (-b - math.sqrt(d))/(2*a)\n",
    "    return x1, x2\n",
    "\n",
    "print('Решение квадратного уравнения вида a x**2 + b*x + c = 0')\n",
    "\n",
    "a = float(input('Введите коэффициент a = '))\n",
    "b = float(input('Введите коэффициент b = '))\n",
    "c = float(input('Введите коэффициент c = '))\n",
    "\n",
    "x1, x2 = get_roots(a, b, c)\n",
    "\n",
    "print('\\nКорни квадратного уравнения {}*x**2 + {}*x + {} = 0'.format(a,b,c))\n",
    "print('x1 = {:.3f}, \\nx2 = {:.3f}'.format(x1, x2))  \n",
    "    "
   ]
  },
  {
   "cell_type": "markdown",
   "metadata": {},
   "source": [
    "### Проблема 1. Мнимые или вещественные корни"
   ]
  },
  {
   "cell_type": "code",
   "execution_count": 28,
   "metadata": {
    "collapsed": false
   },
   "outputs": [
    {
     "name": "stdout",
     "output_type": "stream",
     "text": [
      "Решение квадратного уравнения вида a x**2 + b*x + c = 0\n",
      "Введите коэффициент a = 10\n",
      "Введите коэффициент b = 3\n",
      "Введите коэффициент c = 1\n"
     ]
    },
    {
     "ename": "ValueError",
     "evalue": "math domain error",
     "output_type": "error",
     "traceback": [
      "\u001b[0;31m---------------------------------------------------------------------------\u001b[0m",
      "\u001b[0;31mValueError\u001b[0m                                Traceback (most recent call last)",
      "\u001b[0;32m<ipython-input-28-d9aac2059a29>\u001b[0m in \u001b[0;36m<module>\u001b[0;34m()\u001b[0m\n\u001b[1;32m     13\u001b[0m \u001b[0mc\u001b[0m \u001b[0;34m=\u001b[0m \u001b[0mfloat\u001b[0m\u001b[0;34m(\u001b[0m\u001b[0minput\u001b[0m\u001b[0;34m(\u001b[0m\u001b[0;34m'Введите коэффициент c = '\u001b[0m\u001b[0;34m)\u001b[0m\u001b[0;34m)\u001b[0m\u001b[0;34m\u001b[0m\u001b[0m\n\u001b[1;32m     14\u001b[0m \u001b[0;34m\u001b[0m\u001b[0m\n\u001b[0;32m---> 15\u001b[0;31m \u001b[0mx1\u001b[0m\u001b[0;34m,\u001b[0m \u001b[0mx2\u001b[0m \u001b[0;34m=\u001b[0m \u001b[0mget_roots\u001b[0m\u001b[0;34m(\u001b[0m\u001b[0ma\u001b[0m\u001b[0;34m,\u001b[0m \u001b[0mb\u001b[0m\u001b[0;34m,\u001b[0m \u001b[0mc\u001b[0m\u001b[0;34m)\u001b[0m\u001b[0;34m\u001b[0m\u001b[0m\n\u001b[0m\u001b[1;32m     16\u001b[0m \u001b[0;34m\u001b[0m\u001b[0m\n\u001b[1;32m     17\u001b[0m \u001b[0mprint\u001b[0m\u001b[0;34m(\u001b[0m\u001b[0;34m'\\nКорни квадратного уравнения {}*x**2 + {}*x + {} = 0'\u001b[0m\u001b[0;34m.\u001b[0m\u001b[0mformat\u001b[0m\u001b[0;34m(\u001b[0m\u001b[0ma\u001b[0m\u001b[0;34m,\u001b[0m\u001b[0mb\u001b[0m\u001b[0;34m,\u001b[0m\u001b[0mc\u001b[0m\u001b[0;34m)\u001b[0m\u001b[0;34m)\u001b[0m\u001b[0;34m\u001b[0m\u001b[0m\n",
      "\u001b[0;32m<ipython-input-28-d9aac2059a29>\u001b[0m in \u001b[0;36mget_roots\u001b[0;34m(a, b, c)\u001b[0m\n\u001b[1;32m      3\u001b[0m \u001b[0;32mdef\u001b[0m \u001b[0mget_roots\u001b[0m\u001b[0;34m(\u001b[0m\u001b[0ma\u001b[0m\u001b[0;34m,\u001b[0m \u001b[0mb\u001b[0m\u001b[0;34m,\u001b[0m \u001b[0mc\u001b[0m\u001b[0;34m)\u001b[0m\u001b[0;34m:\u001b[0m\u001b[0;34m\u001b[0m\u001b[0m\n\u001b[1;32m      4\u001b[0m     \u001b[0md\u001b[0m  \u001b[0;34m=\u001b[0m \u001b[0mb\u001b[0m\u001b[0;34m**\u001b[0m\u001b[0;36m2\u001b[0m \u001b[0;34m-\u001b[0m \u001b[0;36m4\u001b[0m\u001b[0;34m*\u001b[0m\u001b[0ma\u001b[0m\u001b[0;34m*\u001b[0m\u001b[0mc\u001b[0m\u001b[0;34m\u001b[0m\u001b[0m\n\u001b[0;32m----> 5\u001b[0;31m     \u001b[0mx1\u001b[0m \u001b[0;34m=\u001b[0m \u001b[0;34m(\u001b[0m\u001b[0;34m-\u001b[0m\u001b[0mb\u001b[0m \u001b[0;34m+\u001b[0m \u001b[0mmath\u001b[0m\u001b[0;34m.\u001b[0m\u001b[0msqrt\u001b[0m\u001b[0;34m(\u001b[0m\u001b[0md\u001b[0m\u001b[0;34m)\u001b[0m\u001b[0;34m)\u001b[0m\u001b[0;34m/\u001b[0m\u001b[0;34m(\u001b[0m\u001b[0;36m2\u001b[0m\u001b[0;34m*\u001b[0m\u001b[0ma\u001b[0m\u001b[0;34m)\u001b[0m\u001b[0;34m\u001b[0m\u001b[0m\n\u001b[0m\u001b[1;32m      6\u001b[0m     \u001b[0mx2\u001b[0m \u001b[0;34m=\u001b[0m \u001b[0;34m(\u001b[0m\u001b[0;34m-\u001b[0m\u001b[0mb\u001b[0m \u001b[0;34m-\u001b[0m \u001b[0mmath\u001b[0m\u001b[0;34m.\u001b[0m\u001b[0msqrt\u001b[0m\u001b[0;34m(\u001b[0m\u001b[0md\u001b[0m\u001b[0;34m)\u001b[0m\u001b[0;34m)\u001b[0m\u001b[0;34m/\u001b[0m\u001b[0;34m(\u001b[0m\u001b[0;36m2\u001b[0m\u001b[0;34m*\u001b[0m\u001b[0ma\u001b[0m\u001b[0;34m)\u001b[0m\u001b[0;34m\u001b[0m\u001b[0m\n\u001b[1;32m      7\u001b[0m     \u001b[0;32mreturn\u001b[0m \u001b[0mx1\u001b[0m\u001b[0;34m,\u001b[0m \u001b[0mx2\u001b[0m\u001b[0;34m\u001b[0m\u001b[0m\n",
      "\u001b[0;31mValueError\u001b[0m: math domain error"
     ]
    }
   ],
   "source": [
    "import math\n",
    "\n",
    "def get_roots(a, b, c):\n",
    "    d  = b**2 - 4*a*c\n",
    "    x1 = (-b + math.sqrt(d))/(2*a)\n",
    "    x2 = (-b - math.sqrt(d))/(2*a)\n",
    "    return x1, x2\n",
    "\n",
    "print('Решение квадратного уравнения вида a x**2 + b*x + c = 0')\n",
    "\n",
    "a = float(input('Введите коэффициент a = '))\n",
    "b = float(input('Введите коэффициент b = '))\n",
    "c = float(input('Введите коэффициент c = '))\n",
    "\n",
    "x1, x2 = get_roots(a, b, c)\n",
    "\n",
    "print('\\nКорни квадратного уравнения {}*x**2 + {}*x + {} = 0'.format(a,b,c))\n",
    "print('x1 = {:.3f}, \\nx2 = {:.3f}'.format(x1, x2))  "
   ]
  },
  {
   "cell_type": "markdown",
   "metadata": {},
   "source": [
    "## Вариант 2"
   ]
  },
  {
   "cell_type": "code",
   "execution_count": 30,
   "metadata": {
    "collapsed": false
   },
   "outputs": [
    {
     "name": "stdout",
     "output_type": "stream",
     "text": [
      "Решение квадратного уравнения вида a x**2 + b*x + c = 0\n",
      "Введите коэффициент a = 1\n",
      "Введите коэффициент b = 1\n",
      "Введите коэффициент c = 3\n",
      "\n",
      "Корни квадратного уравнения 1.0*x**2 + 1.0*x + 3.0 = 0\n",
      "Вещественных корней нет\n"
     ]
    }
   ],
   "source": [
    "import math\n",
    "\n",
    "def get_roots(a, b, c):\n",
    "    d  = b**2 - 4*a*c\n",
    "    x1 = (-b + math.sqrt(d))/(2*a)\n",
    "    x2 = (-b - math.sqrt(d))/(2*a)\n",
    "    return x1, x2\n",
    "\n",
    "print('Решение квадратного уравнения вида a x**2 + b*x + c = 0')\n",
    "\n",
    "a = float(input('Введите коэффициент a = '))\n",
    "b = float(input('Введите коэффициент b = '))\n",
    "c = float(input('Введите коэффициент c = '))\n",
    "\n",
    "print('\\nКорни квадратного уравнения {}*x**2 + {}*x + {} = 0'.format(a,b,c))\n",
    "\n",
    "# Проверяем значение подкоренного выражения, которое высчисляется при определеии дискриминанта\n",
    "if b**2 - 4*a*c < 0 :\n",
    "    print('Вещественных корней нет')\n",
    "    \n",
    "else:    \n",
    "    x1, x2 = get_roots(a, b, c)\n",
    "    print('x1 = {:.3f}, \\nx2 = {:.3f}'.format(x1, x2))"
   ]
  },
  {
   "cell_type": "markdown",
   "metadata": {},
   "source": [
    " ### Проблема 2. Необходимо проверять возможность равенства нулю коэффициента при $x^2$"
   ]
  },
  {
   "cell_type": "code",
   "execution_count": 31,
   "metadata": {
    "collapsed": false
   },
   "outputs": [
    {
     "name": "stdout",
     "output_type": "stream",
     "text": [
      "Решение квадратного уравнения вида a x**2 + b*x + c = 0\n",
      "Введите коэффициент a = 0\n",
      "Введите коэффициент b = 1\n",
      "Введите коэффициент c = 3\n",
      "\n",
      "Корни квадратного уравнения 0.0*x**2 + 1.0*x + 3.0 = 0\n"
     ]
    },
    {
     "ename": "ZeroDivisionError",
     "evalue": "float division by zero",
     "output_type": "error",
     "traceback": [
      "\u001b[0;31m---------------------------------------------------------------------------\u001b[0m",
      "\u001b[0;31mZeroDivisionError\u001b[0m                         Traceback (most recent call last)",
      "\u001b[0;32m<ipython-input-31-5e139201f4a7>\u001b[0m in \u001b[0;36m<module>\u001b[0;34m()\u001b[0m\n\u001b[1;32m     19\u001b[0m \u001b[0;34m\u001b[0m\u001b[0m\n\u001b[1;32m     20\u001b[0m \u001b[0;32melse\u001b[0m\u001b[0;34m:\u001b[0m\u001b[0;34m\u001b[0m\u001b[0m\n\u001b[0;32m---> 21\u001b[0;31m     \u001b[0mx1\u001b[0m\u001b[0;34m,\u001b[0m \u001b[0mx2\u001b[0m \u001b[0;34m=\u001b[0m \u001b[0mget_roots\u001b[0m\u001b[0;34m(\u001b[0m\u001b[0ma\u001b[0m\u001b[0;34m,\u001b[0m \u001b[0mb\u001b[0m\u001b[0;34m,\u001b[0m \u001b[0mc\u001b[0m\u001b[0;34m)\u001b[0m\u001b[0;34m\u001b[0m\u001b[0m\n\u001b[0m\u001b[1;32m     22\u001b[0m     \u001b[0mprint\u001b[0m\u001b[0;34m(\u001b[0m\u001b[0;34m'x1 = {:.3f}, \\nx2 = {:.3f}'\u001b[0m\u001b[0;34m.\u001b[0m\u001b[0mformat\u001b[0m\u001b[0;34m(\u001b[0m\u001b[0mx1\u001b[0m\u001b[0;34m,\u001b[0m \u001b[0mx2\u001b[0m\u001b[0;34m)\u001b[0m\u001b[0;34m)\u001b[0m\u001b[0;34m\u001b[0m\u001b[0m\n",
      "\u001b[0;32m<ipython-input-31-5e139201f4a7>\u001b[0m in \u001b[0;36mget_roots\u001b[0;34m(a, b, c)\u001b[0m\n\u001b[1;32m      3\u001b[0m \u001b[0;32mdef\u001b[0m \u001b[0mget_roots\u001b[0m\u001b[0;34m(\u001b[0m\u001b[0ma\u001b[0m\u001b[0;34m,\u001b[0m \u001b[0mb\u001b[0m\u001b[0;34m,\u001b[0m \u001b[0mc\u001b[0m\u001b[0;34m)\u001b[0m\u001b[0;34m:\u001b[0m\u001b[0;34m\u001b[0m\u001b[0m\n\u001b[1;32m      4\u001b[0m     \u001b[0md\u001b[0m  \u001b[0;34m=\u001b[0m \u001b[0mb\u001b[0m\u001b[0;34m**\u001b[0m\u001b[0;36m2\u001b[0m \u001b[0;34m-\u001b[0m \u001b[0;36m4\u001b[0m\u001b[0;34m*\u001b[0m\u001b[0ma\u001b[0m\u001b[0;34m*\u001b[0m\u001b[0mc\u001b[0m\u001b[0;34m\u001b[0m\u001b[0m\n\u001b[0;32m----> 5\u001b[0;31m     \u001b[0mx1\u001b[0m \u001b[0;34m=\u001b[0m \u001b[0;34m(\u001b[0m\u001b[0;34m-\u001b[0m\u001b[0mb\u001b[0m \u001b[0;34m+\u001b[0m \u001b[0mmath\u001b[0m\u001b[0;34m.\u001b[0m\u001b[0msqrt\u001b[0m\u001b[0;34m(\u001b[0m\u001b[0md\u001b[0m\u001b[0;34m)\u001b[0m\u001b[0;34m)\u001b[0m\u001b[0;34m/\u001b[0m\u001b[0;34m(\u001b[0m\u001b[0;36m2\u001b[0m\u001b[0;34m*\u001b[0m\u001b[0ma\u001b[0m\u001b[0;34m)\u001b[0m\u001b[0;34m\u001b[0m\u001b[0m\n\u001b[0m\u001b[1;32m      6\u001b[0m     \u001b[0mx2\u001b[0m \u001b[0;34m=\u001b[0m \u001b[0;34m(\u001b[0m\u001b[0;34m-\u001b[0m\u001b[0mb\u001b[0m \u001b[0;34m-\u001b[0m \u001b[0mmath\u001b[0m\u001b[0;34m.\u001b[0m\u001b[0msqrt\u001b[0m\u001b[0;34m(\u001b[0m\u001b[0md\u001b[0m\u001b[0;34m)\u001b[0m\u001b[0;34m)\u001b[0m\u001b[0;34m/\u001b[0m\u001b[0;34m(\u001b[0m\u001b[0;36m2\u001b[0m\u001b[0;34m*\u001b[0m\u001b[0ma\u001b[0m\u001b[0;34m)\u001b[0m\u001b[0;34m\u001b[0m\u001b[0m\n\u001b[1;32m      7\u001b[0m     \u001b[0;32mreturn\u001b[0m \u001b[0mx1\u001b[0m\u001b[0;34m,\u001b[0m \u001b[0mx2\u001b[0m\u001b[0;34m\u001b[0m\u001b[0m\n",
      "\u001b[0;31mZeroDivisionError\u001b[0m: float division by zero"
     ]
    }
   ],
   "source": [
    "import math\n",
    "\n",
    "def get_roots(a, b, c):\n",
    "    d  = b**2 - 4*a*c\n",
    "    x1 = (-b + math.sqrt(d))/(2*a)\n",
    "    x2 = (-b - math.sqrt(d))/(2*a)\n",
    "    return x1, x2\n",
    "\n",
    "print('Решение квадратного уравнения вида a x**2 + b*x + c = 0')\n",
    "\n",
    "a = float(input('Введите коэффициент a = '))\n",
    "b = float(input('Введите коэффициент b = '))\n",
    "c = float(input('Введите коэффициент c = '))\n",
    "\n",
    "print('\\nКорни квадратного уравнения {}*x**2 + {}*x + {} = 0'.format(a,b,c))\n",
    "\n",
    "if b**2 - 4*a*c < 0 :\n",
    "    print('Вещественных корней нет')\n",
    "    \n",
    "else:    \n",
    "    x1, x2 = get_roots(a, b, c)\n",
    "    print('x1 = {:.3f}, \\nx2 = {:.3f}'.format(x1, x2))"
   ]
  },
  {
   "cell_type": "markdown",
   "metadata": {},
   "source": [
    "## Вариант 3. Добавляем проверку a=0"
   ]
  },
  {
   "cell_type": "code",
   "execution_count": 32,
   "metadata": {
    "collapsed": false
   },
   "outputs": [
    {
     "name": "stdout",
     "output_type": "stream",
     "text": [
      "Решение квадратного уравнения вида a x**2 + b*x + c = 0\n",
      "Введите коэффициент a = 0\n",
      "Введите коэффициент b = 1\n",
      "Введите коэффициент a = 3\n",
      "Коэффициент a должен быть отличен от нуля\n"
     ]
    }
   ],
   "source": [
    "import math\n",
    "\n",
    "def get_roots(a, b, c):\n",
    "    d  = b**2 - 4*a*c\n",
    "    x1 = (-b + math.sqrt(d))/(2*a)\n",
    "    x2 = (-b - math.sqrt(d))/(2*a)\n",
    "    return x1, x2\n",
    "\n",
    "print('Решение квадратного уравнения вида a x**2 + b*x + c = 0')\n",
    "\n",
    "a = float(input('Введите коэффициент a = '))\n",
    "b = float(input('Введите коэффициент b = '))\n",
    "c = float(input('Введите коэффициент a = '))\n",
    "\n",
    "if a == 0 :\n",
    "    # Если a = 0 то выводится это сообщение и программа останавливается \n",
    "    print('Коэффициент a должен быть отличен от нуля')\n",
    "    \n",
    "else :    \n",
    "    print('\\nКорни квадратного уравнения {}*x**2 + {}*x + {} = 0'.format(a,b,c))\n",
    "\n",
    "    if b**2 - 4*a*c < 0 :\n",
    "        print('Вещественных корней нет')\n",
    "    \n",
    "    else:    \n",
    "        x1, x2 = get_roots(a, b, c)\n",
    "        print('x1 = {:.3f}, \\nx2 = {:.3f}'.format(x1, x2))"
   ]
  },
  {
   "cell_type": "markdown",
   "metadata": {},
   "source": [
    "## Вариант 4. Предлагаем ввести исходные данные повторно."
   ]
  },
  {
   "cell_type": "code",
   "execution_count": 33,
   "metadata": {
    "collapsed": false
   },
   "outputs": [
    {
     "name": "stdout",
     "output_type": "stream",
     "text": [
      "Решение квадратного уравнения вида a x**2 + b*x + c = 0\n",
      "Введите коэффициент a = 0\n",
      "Введите коэффициент b = 1\n",
      "Введите коэффициент c = 3\n",
      "Коэффициент a должен быть отличен от нуля\n",
      "Введите коэффициент a = 1\n",
      "Введите коэффициент b = 3\n",
      "Введите коэффициент c = 1\n",
      "\n",
      "Корни квадратного уравнения 1.0*x**2 + 3.0*x + 1.0 = 0\n",
      "x1 = -0.382, \n",
      "x2 = -2.618\n"
     ]
    }
   ],
   "source": [
    "import math\n",
    "\n",
    "def get_roots(a, b, c):\n",
    "    d  = b**2 - 4*a*c\n",
    "    x1 = (-b + math.sqrt(d))/(2*a)\n",
    "    x2 = (-b - math.sqrt(d))/(2*a)\n",
    "    return x1, x2\n",
    "\n",
    "print('Решение квадратного уравнения вида a x**2 + b*x + c = 0')\n",
    "\n",
    "work_complete = False\n",
    "\n",
    "# Цикл выполняется, пока work_complete = False\n",
    "while not work_complete:\n",
    "\n",
    "    a = float(input('Введите коэффициент a = '))\n",
    "    b = float(input('Введите коэффициент b = '))\n",
    "    c = float(input('Введите коэффициент c = '))\n",
    "\n",
    "    if a == 0 :\n",
    "        print('Коэффициент a должен быть отличен от нуля')\n",
    "        # Возвращаем к началу цикла !!!\n",
    "        continue\n",
    "    \n",
    "    else :    \n",
    "        print('\\nКорни квадратного уравнения {}*x**2 + {}*x + {} = 0'.format(a,b,c))\n",
    "        # Проверяем дискриминант\n",
    "        if b**2 - 4*a*c < 0 :\n",
    "            print('Вещественных корней нет')\n",
    "            # После завершения расчёта необходимо выйти, поэтому\n",
    "            work_complete = True\n",
    "        else:    \n",
    "            x1, x2 = get_roots(a, b, c)\n",
    "            print('x1 = {:.3f}, \\nx2 = {:.3f}'.format(x1, x2))\n",
    "            # После завершения расчёта необходимо выйти, поэтому здесь тоже\n",
    "            work_complete = True\n"
   ]
  },
  {
   "cell_type": "markdown",
   "metadata": {},
   "source": [
    "### Проблема 3. Ошибка может возникнуть при преобразовании введённых пользователем значений к типу float"
   ]
  },
  {
   "cell_type": "code",
   "execution_count": 35,
   "metadata": {
    "collapsed": false
   },
   "outputs": [
    {
     "name": "stdout",
     "output_type": "stream",
     "text": [
      "Решение квадратного уравнения вида a x**2 + b*x + c = 0\n",
      "Введите коэффициент a = d125\n"
     ]
    },
    {
     "ename": "ValueError",
     "evalue": "could not convert string to float: 'd125'",
     "output_type": "error",
     "traceback": [
      "\u001b[0;31m---------------------------------------------------------------------------\u001b[0m",
      "\u001b[0;31mValueError\u001b[0m                                Traceback (most recent call last)",
      "\u001b[0;32m<ipython-input-35-650c20850443>\u001b[0m in \u001b[0;36m<module>\u001b[0;34m()\u001b[0m\n\u001b[1;32m     13\u001b[0m \u001b[0;32mwhile\u001b[0m \u001b[0;32mnot\u001b[0m \u001b[0mwork_complete\u001b[0m\u001b[0;34m:\u001b[0m\u001b[0;34m\u001b[0m\u001b[0m\n\u001b[1;32m     14\u001b[0m \u001b[0;34m\u001b[0m\u001b[0m\n\u001b[0;32m---> 15\u001b[0;31m     \u001b[0ma\u001b[0m \u001b[0;34m=\u001b[0m \u001b[0mfloat\u001b[0m\u001b[0;34m(\u001b[0m\u001b[0minput\u001b[0m\u001b[0;34m(\u001b[0m\u001b[0;34m'Введите коэффициент a = '\u001b[0m\u001b[0;34m)\u001b[0m\u001b[0;34m)\u001b[0m\u001b[0;34m\u001b[0m\u001b[0m\n\u001b[0m\u001b[1;32m     16\u001b[0m     \u001b[0mb\u001b[0m \u001b[0;34m=\u001b[0m \u001b[0mfloat\u001b[0m\u001b[0;34m(\u001b[0m\u001b[0minput\u001b[0m\u001b[0;34m(\u001b[0m\u001b[0;34m'Введите коэффициент b = '\u001b[0m\u001b[0;34m)\u001b[0m\u001b[0;34m)\u001b[0m\u001b[0;34m\u001b[0m\u001b[0m\n\u001b[1;32m     17\u001b[0m     \u001b[0mc\u001b[0m \u001b[0;34m=\u001b[0m \u001b[0mfloat\u001b[0m\u001b[0;34m(\u001b[0m\u001b[0minput\u001b[0m\u001b[0;34m(\u001b[0m\u001b[0;34m'Введите коэффициент c = '\u001b[0m\u001b[0;34m)\u001b[0m\u001b[0;34m)\u001b[0m\u001b[0;34m\u001b[0m\u001b[0m\n",
      "\u001b[0;31mValueError\u001b[0m: could not convert string to float: 'd125'"
     ]
    }
   ],
   "source": [
    "import math\n",
    "\n",
    "def get_roots(a, b, c):\n",
    "    d  = b**2 - 4*a*c\n",
    "    x1 = (-b + math.sqrt(d))/(2*a)\n",
    "    x2 = (-b - math.sqrt(d))/(2*a)\n",
    "    return x1, x2\n",
    "\n",
    "print('Решение квадратного уравнения вида a x**2 + b*x + c = 0')\n",
    "\n",
    "work_complete = False\n",
    "\n",
    "while not work_complete:\n",
    "\n",
    "    a = float(input('Введите коэффициент a = '))\n",
    "    b = float(input('Введите коэффициент b = '))\n",
    "    c = float(input('Введите коэффициент c = '))\n",
    "\n",
    "    if a == 0 :\n",
    "        print('Коэффициент a должен быть отличен от нуля')\n",
    "        continue\n",
    "    \n",
    "    else :    \n",
    "        print('\\nКорни квадратного уравнения {}*x**2 + {}*x + {} = 0'.format(a,b,c))\n",
    "\n",
    "        if b**2 - 4*a*c < 0 :\n",
    "            print('Вещественных корней нет')\n",
    "            work_complete = True\n",
    "        else:    \n",
    "            x1, x2 = get_roots(a, b, c)\n",
    "            print('x1 = {:.3f}, \\nx2 = {:.3f}'.format(x1, x2))\n",
    "            work_complete = True"
   ]
  },
  {
   "cell_type": "markdown",
   "metadata": {},
   "source": [
    "## Вариант 5. Пишем функцию input (input_as), который проверяет возможность преобразования к заданному типу"
   ]
  },
  {
   "cell_type": "code",
   "execution_count": 36,
   "metadata": {
    "collapsed": false
   },
   "outputs": [
    {
     "name": "stdout",
     "output_type": "stream",
     "text": [
      "Решение квадратного уравнения вида a x**2 + b*x + c = 0\n",
      "Введите коэффициент a = ы\n",
      "Введены неверные данные. Не могу преобразовать ы к типу float\n",
      "Введите коэффициент a = с\n",
      "Введены неверные данные. Не могу преобразовать с к типу float\n",
      "Введите коэффициент a = 1\n",
      "Введите коэффициент b = 3\n",
      "Введите коэффициент c = 1\n",
      "x1 = -0.382, \n",
      "x2 = -2.618\n"
     ]
    }
   ],
   "source": [
    "import math\n",
    "\n",
    "def input_as(text, data_type):           \n",
    "    # Запускаем бесконечный цикл пока пользователь не введёт корректные исходные данные\n",
    "    while True:\n",
    "        try :\n",
    "            # читаем данные с клавиатуры\n",
    "            res = input(text)\n",
    "            # пытаемся преобразовать к типу data_type\n",
    "            res = data_type(res)\n",
    "            # если ошибки не возникло, то выходим из цикла\n",
    "            break\n",
    "        except ValueError:\n",
    "            # если ошибка, то сообщаем и возвращаемся к началу цикла\n",
    "            print('Введены неверные данные. Не могу преобразовать {} к типу {}'.format(res, data_type.__name__))            \n",
    "    return res\n",
    "        \n",
    "\n",
    "def get_roots(a, b, c):\n",
    "    d  = b**2 - 4*a*c\n",
    "    x1 = (-b + math.sqrt(d))/(2*a)\n",
    "    x2 = (-b - math.sqrt(d))/(2*a)\n",
    "    return x1, x2\n",
    "\n",
    "print('Решение квадратного уравнения вида a x**2 + b*x + c = 0')\n",
    "\n",
    "work_complete = False\n",
    "\n",
    "while not work_complete:\n",
    "    \n",
    "    try :        \n",
    "        a = input_as('Введите коэффициент a = ',float)\n",
    "        b = input_as('Введите коэффициент b = ',float)\n",
    "        c = input_as('Введите коэффициент c = ',float)\n",
    "                \n",
    "        x1, x2 = get_roots(a, b, c)\n",
    "        \n",
    "        print('x1 = {:.3f}, \\nx2 = {:.3f}'.format(x1, x2))\n",
    "        work_complete = True\n",
    "        \n",
    "    except ZeroDivisionError:\n",
    "        print('Коэффициент a должен быть отличен от нуля')\n",
    "        continue        \n",
    "    except ValueError:\n",
    "        print('Вещественных корней нет')\n",
    "        work_complete = True\n",
    "          \n",
    "            "
   ]
  }
 ],
 "metadata": {
  "kernelspec": {
   "display_name": "Python 3",
   "language": "python",
   "name": "python3"
  },
  "language_info": {
   "codemirror_mode": {
    "name": "ipython",
    "version": 3
   },
   "file_extension": ".py",
   "mimetype": "text/x-python",
   "name": "python",
   "nbconvert_exporter": "python",
   "pygments_lexer": "ipython3",
   "version": "3.6.3"
  }
 },
 "nbformat": 4,
 "nbformat_minor": 2
}
