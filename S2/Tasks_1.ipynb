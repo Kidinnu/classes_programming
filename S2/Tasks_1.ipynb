{
 "cells": [
  {
   "cell_type": "markdown",
   "metadata": {},
   "source": [
    "# Задания второго семестра"
   ]
  },
  {
   "cell_type": "markdown",
   "metadata": {},
   "source": [
    "## Задание 1 \n",
    "4 неделя "
   ]
  },
  {
   "cell_type": "markdown",
   "metadata": {},
   "source": [
    "1. Окружность задана положением её центра -- координатами $x_c$, $y_c$ и радиусом $R$.\n",
    "2. Задано положение точки $B$ на плоскости ($x_B$, $y_B$). \n",
    "3. Задано направление прямой, проходящей через точку $B$ при помощи тангенса её угла наклона к оси $x$ -- $k$."
   ]
  },
  {
   "cell_type": "markdown",
   "metadata": {},
   "source": [
    "![title](img/Задание_1.png)"
   ]
  },
  {
   "cell_type": "markdown",
   "metadata": {},
   "source": [
    "### 1.1 \n",
    "Напишите программу, которая запрашивает у пользователя положение центра и радиус окружности, положение точки В и наклон прямой и выводит на экран координаты точек пересечения прямой с окружностью ($S_1$, $S_2$)."
   ]
  },
  {
   "cell_type": "markdown",
   "metadata": {},
   "source": [
    "### 1.2\n",
    "Напишите программу, которая запрашивает у пользователя положение центра и радиус окружности, положение точки В и выводит на экран координаты точек касания окружности двух прямых, проведённых из точки В ($T_1$, $T_2$)."
   ]
  },
  {
   "cell_type": "markdown",
   "metadata": {},
   "source": [
    "Точка В должна находиться вне окружности. Программа должна корректно обрабатывать любые данные, ввёденные пользователем, и сообщать об ошибках."
   ]
  },
  {
   "cell_type": "markdown",
   "metadata": {},
   "source": [
    "## Задание 2"
   ]
  },
  {
   "cell_type": "markdown",
   "metadata": {},
   "source": [
    "Объявлен класс Point (точка на плоскости) и класс Shape (фигура):"
   ]
  },
  {
   "cell_type": "code",
   "execution_count": 2,
   "metadata": {
    "collapsed": true
   },
   "outputs": [],
   "source": [
    "class Point:\n",
    "    def __init__(self, x, y):\n",
    "        self.x = x\n",
    "        self.y = y\n",
    "\n",
    "class Shape:\n",
    "    def __init__(self, x, y):\n",
    "        self.x = x\n",
    "        self.y = y"
   ]
  },
  {
   "cell_type": "markdown",
   "metadata": {},
   "source": [
    "1. Создайте класс **Rectangle** на основе класса **Shape**. Представитель класса **Rectangle** создаётся при помощи конструкутора с четырьмя параметрами, задающими положение центра прямоугольника его ширину и высоту. \n",
    "\n",
    "2. Добавьте к классу **Rectangle** метод **area**, который вычисляет и возвращает площадь прямоугольника. \n",
    "\n",
    "3. Добавьте к классу **Rectangle** метод **perimeter**, который вычисляет и возвращает периметр прямоугольника. \n",
    "\n",
    "4. Создайте класс **Circle** на основе класса **Shape**. Параметры конструктора для создания экземляра класса **Circle** -- положение центра окружности и её радиус. \n",
    "\n",
    "5. Добавьте к классу **Circle** метод **area**, который вычисляет и возвращает площадь, ограниченную окружностью. \n",
    "\n",
    "6. Добавьте к классу **Circle** метод **perimeter**, который вычисляет и возвращает длину окружности. \n",
    "\n",
    "7. Создайте класс **Ellipse** на основе класса **Shape**. Параметры конструктора для создания экземляра класса **Ellipse** -- положение центра, большая и малая полуось. \n",
    "\n",
    "8. Добавьте к классу **Ellipse** метод **area**, который вычисляет и возвращает площадь, ограниченную эллипсом. \n",
    "\n",
    "9. Создайте класс отрезок -- **Line**. Параметры конструктора для создания экземляра класса **Line** -- две точки -- объекты типа **Point**. \n",
    "\n",
    "10. Добавьте к классу **Line** метод **length**, который вычисляет и возвращает длину отрезка. \n",
    "\n",
    "11. Напишите функцию **intersect** с двумя аргументами типа **Line** и **Circle**. Функция должна возвращать пустой кортеж, если отрезок не пересекает окружность, или кортеж с одной или двумя точками пересечения окружности отрезком (объекты типа Point)."
   ]
  },
  {
   "cell_type": "code",
   "execution_count": 8,
   "metadata": {
    "collapsed": false
   },
   "outputs": [],
   "source": [
    "#\n",
    "# Пример-заготовка (задача 11)\n",
    "#\n",
    "def intersect(line, circle):\n",
    "    a = (line.point2.x - line.point1.x)**2 - (line.point2.y - line.point1.y)**2\n",
    "    b = '...'\n",
    "    c = '...'\n",
    "    d = b**2 - 4*a*c\n",
    "    \n",
    "    result = []\n",
    "    \n",
    "    if d < 0 :\n",
    "        # отрезок не пересекает окружность (и прямая тоже),\n",
    "        # возвращаем пустой список\n",
    "        return result\n",
    "    \n",
    "    # Если предыдущее условие не выполнилось, то корни есть     \n",
    "    # первая точка-кандидат\n",
    "    t1 = (- b + math.sqrt(d))/(2*a)\n",
    "    # вторая точка-кандидат\n",
    "    t2 = (- b - math.sqrt(d))/(2*a)       \n",
    "    \n",
    "    if t1 >= 0 and t1 <= 1:\n",
    "        # Если t1 >= 0 и t1 <= 1, то отрезок пересекает окружность \n",
    "        # в точке с координатами:\n",
    "        x1 = line.point1.x + (line.point2.x - line.point1.x)*t1\n",
    "        y1 = line.point1.y + (line.point2.y - line.point1.y)*t1\n",
    "        result.append( Point(x1,y1) )\n",
    "        \n",
    "    if t2 >= 0 and t2 <= 1:\n",
    "        # Если t2 >= 0 и t2 <= 1, то отрезок пересекает окружность \n",
    "        # в точке с координатами:\n",
    "        x2 = line.point1.x + (line.point2.x - line.point1.x)*t2\n",
    "        y2 = line.point1.y + (line.point2.y - line.point1.y)*t2\n",
    "        result.append( Point(x2,y2) )        \n",
    "    \n",
    "    return result"
   ]
  },
  {
   "cell_type": "code",
   "execution_count": 13,
   "metadata": {
    "collapsed": false
   },
   "outputs": [],
   "source": [
    "# В конце функции intersect (выше) два раза повторяется gjодин и тот же код.\n",
    "# Перепишем функцию intersect более компактно\n",
    "def intersect(line, circle):\n",
    "    a = (line.point2.x - line.point1.x)**2 - (line.point2.y - line.point1.y)**2\n",
    "    b = '...'\n",
    "    c = '...'\n",
    "    d = b**2 - 4*a*c\n",
    "    \n",
    "    if d < 0 :\n",
    "        # отрезок не пересекает окружность (и прямая тоже),\n",
    "        # возвращаем пустой список\n",
    "        return []\n",
    "        \n",
    "    # Если предыдущее условие не выполнилось, то корни есть     \n",
    "    # Создаем пустой список корней\n",
    "    result = []\n",
    "    # первая точка-кандидат\n",
    "    t1 = (- b + math.sqrt(d))/(2*a)\n",
    "    # вторая точка-кандидат\n",
    "    t2 = (- b - math.sqrt(d))/(2*a)       \n",
    "    \n",
    "    for t in (t1, t2):    \n",
    "        if t >= 0 and t <= 1:\n",
    "            # Если t >= 0 и t <= 1, то отрезок пересекает окружность \n",
    "            # в точке с координатами:\n",
    "            x = line.point1.x + (line.point2.x - line.point1.x)*t\n",
    "            y = line.point1.y + (line.point2.y - line.point1.y)*t\n",
    "            # добавляем точку в список результата\n",
    "            result.append( Point(x,y) )\n",
    "    \n",
    "    return result\n",
    "\n",
    "\n",
    "# line   = Line(Point(0,0),Point(5,6))\n",
    "# circle = Circle(3,3,2)\n",
    "\n",
    "# points = intersect(line, circle) \n",
    "# for point in points :\n",
    "#     print(point.x, point.y)\n",
    "   \n"
   ]
  },
  {
   "cell_type": "markdown",
   "metadata": {},
   "source": [
    "12 Напишите функцию **intersect** с двумя аргументами типа **Line**. Функция должна возвращать пустой кортеж, если отрезки не пересекаются, или кортеж с одним элементом типа **Point** -- точкой пересечения отрезков."
   ]
  },
  {
   "cell_type": "code",
   "execution_count": null,
   "metadata": {
    "collapsed": false
   },
   "outputs": [],
   "source": []
  },
  {
   "cell_type": "code",
   "execution_count": null,
   "metadata": {
    "collapsed": true
   },
   "outputs": [],
   "source": []
  }
 ],
 "metadata": {
  "kernelspec": {
   "display_name": "Python 3",
   "language": "python",
   "name": "python3"
  },
  "language_info": {
   "codemirror_mode": {
    "name": "ipython",
    "version": 3
   },
   "file_extension": ".py",
   "mimetype": "text/x-python",
   "name": "python",
   "nbconvert_exporter": "python",
   "pygments_lexer": "ipython3",
   "version": "3.6.3"
  }
 },
 "nbformat": 4,
 "nbformat_minor": 2
}
