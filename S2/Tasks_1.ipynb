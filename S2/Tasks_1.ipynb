{
 "cells": [
  {
   "cell_type": "markdown",
   "metadata": {},
   "source": [
    "# Задания второго семестра"
   ]
  },
  {
   "cell_type": "markdown",
   "metadata": {},
   "source": [
    "## Задание 1"
   ]
  },
  {
   "cell_type": "markdown",
   "metadata": {},
   "source": [
    "1. Окружность задана положением её центра -- координатами $x_c$, $y_c$ и радиусом $R$.\n",
    "2. Задано положение точки $B$ на плоскости ($x_B$, $y_B$). \n",
    "3. Задано направление прямой, проходящей через точку $B$ при помощи тангенса её угла наклона к оси $x$ -- $k$."
   ]
  },
  {
   "cell_type": "markdown",
   "metadata": {},
   "source": [
    "![title](img/Задание_1.png)"
   ]
  },
  {
   "cell_type": "markdown",
   "metadata": {},
   "source": [
    "### 1.1 \n",
    "Напишите программу, которая запрашивает у пользователя положение центра и радиус окружности, положение точки В и наклон прямой и выводит на экран координаты точек пересечения прямой с окружностью ($S_1$, $S_2$)."
   ]
  },
  {
   "cell_type": "markdown",
   "metadata": {},
   "source": [
    "### 1.2\n",
    "Напишите программу, которая запрашивает у пользователя положение центра и радиус окружности, положение точки В и выводит на экран координаты точек касания окружности двух прямых, проведённых из точки В ($T_1$, $T_2$)."
   ]
  },
  {
   "cell_type": "markdown",
   "metadata": {},
   "source": [
    "Точка В должна находиться вне окружности. Программа должна корректно обрабатывать любые данные, ввёденные пользователем, и сообщать об ошибках."
   ]
  },
  {
   "cell_type": "markdown",
   "metadata": {},
   "source": [
    "## Задание 2"
   ]
  },
  {
   "cell_type": "code",
   "execution_count": null,
   "metadata": {
    "collapsed": true
   },
   "outputs": [],
   "source": []
  }
 ],
 "metadata": {
  "kernelspec": {
   "display_name": "Python 3",
   "language": "python",
   "name": "python3"
  },
  "language_info": {
   "codemirror_mode": {
    "name": "ipython",
    "version": 3
   },
   "file_extension": ".py",
   "mimetype": "text/x-python",
   "name": "python",
   "nbconvert_exporter": "python",
   "pygments_lexer": "ipython3",
   "version": "3.6.3"
  }
 },
 "nbformat": 4,
 "nbformat_minor": 2
}
