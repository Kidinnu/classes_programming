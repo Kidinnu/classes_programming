{
  "nbformat": 4,
  "nbformat_minor": 0,
  "metadata": {
    "colab": {
      "name": "contour.ipynb",
      "version": "0.3.2",
      "provenance": [],
      "collapsed_sections": [],
      "include_colab_link": true
    },
    "kernelspec": {
      "name": "python3",
      "display_name": "Python 3"
    }
  },
  "cells": [
    {
      "cell_type": "markdown",
      "metadata": {
        "id": "view-in-github",
        "colab_type": "text"
      },
      "source": [
        "<a href=\"https://colab.research.google.com/github/Kidinnu/classes_programming/blob/master/contour.ipynb\" target=\"_parent\"><img src=\"https://colab.research.google.com/assets/colab-badge.svg\" alt=\"Open In Colab\"/></a>"
      ]
    },
    {
      "cell_type": "markdown",
      "metadata": {
        "id": "DfWfXzGzWksq",
        "colab_type": "text"
      },
      "source": [
        "Необходимо написать программу - помощник архитектора в рисовании очертания города. Город задается расположением зданий. Город рассматривается как двумерный и все здания в нем - прямоугольники, имеющие одинаковое основание (город построен на равнине). Здания задаются тройкой чисел ($L_i$,$R_i$,$H_i$) где $L_i$ и $R_i$ есть координаты левой и правой стен здания $i$, а $H_i$ - высота этого здания. \n",
        "\n",
        "[Источник](http://algolist.manual.ru/olimp/geo_prb.php)\n"
      ]
    },
    {
      "cell_type": "code",
      "metadata": {
        "id": "d5Z2oWPyWjcK",
        "colab_type": "code",
        "colab": {}
      },
      "source": [
        "import numpy as np\n",
        "import matplotlib.pyplot as plt"
      ],
      "execution_count": 0,
      "outputs": []
    },
    {
      "cell_type": "code",
      "metadata": {
        "id": "pgfbD6Sq5ysJ",
        "colab_type": "code",
        "colab": {}
      },
      "source": [
        "# x левой стены, x правой стены, высота\n",
        "buildings = np.array([[0,4,5],\n",
        "                      [2,6,9],\n",
        "                      [2,6,2],\n",
        "                      [3,9,3],\n",
        "                      [11,14,4],\n",
        "                      [14,17,2]])"
      ],
      "execution_count": 0,
      "outputs": []
    },
    {
      "cell_type": "code",
      "metadata": {
        "id": "l_K-4twn7Lut",
        "colab_type": "code",
        "outputId": "e384b339-bc3a-4bba-8bb1-51fa11f0d6e7",
        "colab": {
          "base_uri": "https://localhost:8080/",
          "height": 269
        }
      },
      "source": [
        "# Вспомогательная функция для рисования здания\n",
        "def get_building_polygon(b):\n",
        "  return np.array([[b[0],0],[b[0],b[2]],[b[1],b[2]],[b[1],0]])\n",
        "\n",
        "# Начальное состояние\n",
        "for building in buildings:\n",
        "  xy = get_building_polygon(building)\n",
        "  plt.plot(xy[:,0],xy[:,1])"
      ],
      "execution_count": 0,
      "outputs": [
        {
          "output_type": "display_data",
          "data": {
            "image/png": "[encoded data removed]",
            "text/plain": [
              "<Figure size 432x288 with 1 Axes>"
            ]
          },
          "metadata": {
            "tags": []
          }
        }
      ]
    },
    {
      "cell_type": "code",
      "metadata": {
        "id": "4vLCCh807aur",
        "colab_type": "code",
        "outputId": "9fd5f20c-247f-4c90-dcfc-0cdd72ce4417",
        "colab": {
          "base_uri": "https://localhost:8080/",
          "height": 34
        }
      },
      "source": [
        "def get_highest_building_for_pos(pos, buildings):\n",
        "  # Функция Возвращает самое высокое здание в позиции x\n",
        "  # не учитывая здания, у которых с x совпадает правая граница (это здание уже пройдено)\n",
        "  xbuildings = filter(lambda b: b[0] <= pos[0] < b[1] and pos[1]!=b[2], buildings)\n",
        "  max_xbuilding = max(xbuildings, key= lambda b: b[2], default=None) \n",
        "  return max_xbuilding\n",
        "\n",
        "# например\n",
        "print(get_highest_building_for_pos([6,0],buildings))"
      ],
      "execution_count": 5,
      "outputs": [
        {
          "output_type": "stream",
          "text": [
            "[3 9 3]\n"
          ],
          "name": "stdout"
        }
      ]
    },
    {
      "cell_type": "code",
      "metadata": {
        "id": "RllBwxz0NjT1",
        "colab_type": "code",
        "outputId": "6b55089c-f61b-4886-e92d-b16b63d001c0",
        "colab": {
          "base_uri": "https://localhost:8080/",
          "height": 34
        }
      },
      "source": [
        "def get_right_side_of_the_roof(pos, buildings):\n",
        "  # Функция возвращает правую границу крыши на которой находится точка pos\n",
        "  # или None, если точка находится на поверхности земли \n",
        "  if pos[1] != 0:\n",
        "    building = list(filter(lambda b: b[0] <= pos[0] <= b[1] and b[2] == pos[1], buildings)) \n",
        "    return building[0][1]\n",
        "  else:\n",
        "    return None\n",
        "\n",
        "# Например\n",
        "get_right_side_of_the_roof([6,9],buildings)"
      ],
      "execution_count": 6,
      "outputs": [
        {
          "output_type": "execute_result",
          "data": {
            "text/plain": [
              "6"
            ]
          },
          "metadata": {
            "tags": []
          },
          "execution_count": 6
        }
      ]
    },
    {
      "cell_type": "code",
      "metadata": {
        "id": "8sZjY7mU-KBQ",
        "colab_type": "code",
        "colab": {}
      },
      "source": [
        "# Начальное положение (кранее левое)\n",
        "pos  = [buildings[0,0], 0]\n",
        "# Путь (записываем туда первую точку)\n",
        "path = [pos.copy()]\n",
        "\n",
        "# Номер этапа\n",
        "# 0,2,4,6,... -- подъем или спуск\n",
        "# 1,3,5,7,... -- движение вправо\n",
        "stage = 0\n",
        "\n",
        "# Движемся пока не достигнем земли (pos[1]=0) \n",
        "# на правой стороне последнего здания (pos[0]==buildings[-1,1])\n",
        "while pos[0]!=buildings[-1,1] or pos[1]!=0:\n",
        "  # Если находимся на правом краю крыши последнего здания, то спускаемся вниз \n",
        "  if pos[0]==buildings[-1,1] and pos[1]!=0:\n",
        "    pos[1] = 0\n",
        "    path.append(pos.copy())\n",
        "  \n",
        "  # Иначе продолжаем долгий путь\n",
        "  # Определяем этап (движение по вертикали или горизонтали)\n",
        "  if stage % 2 == 0 : # Движение по вертикали    \n",
        "    # Самое высокое здание в текущей позиции - pos[0],\n",
        "    # при этом здание с высотой, равной текущей не учитывается\n",
        "    bmax = get_highest_building_for_pos(pos, buildings)\n",
        "\n",
        "    if (not (bmax is None)) and bmax[2] > pos[1]:\n",
        "      # Если такое здание нашлось (результат не None)\n",
        "      # и если это здание выше текущей позиции, то поднимаемся на его крышу\n",
        "      pos[1] = bmax[2]\n",
        "      path.append(pos.copy())\n",
        "      \n",
        "    elif (not (bmax is None)) and bmax[2] < pos[1]:\n",
        "      # Если это здание ниже теущей позиции, спускаемся\n",
        "      pos[1] = bmax[2]\n",
        "      path.append(pos.copy())\n",
        "    else :\n",
        "      # Если здания нет, то\n",
        "      # нужно спускаться вниз до 0\n",
        "      pos[1] = 0\n",
        "      path.append(pos.copy())\n",
        "  else: \n",
        "      # Движение вправо      \n",
        "      # До самого ближайшего самого высокого здания (больше текущего уровня)\n",
        "      # Определяем правую кооординату крыши, на которой мы находимся\n",
        "      # Здания, выше текущего уровня крыши, будем искать только среди тех,\n",
        "      # которые имею левую границу больше текущей позиции x (pos[0])\n",
        "      # но меньше правой границы крыши, на которой мы находимся \n",
        "      x_right_roof = get_right_side_of_the_roof(pos, buildings)\n",
        "      # x_right_roof может быть пустым, если мы не на крыше, а на земле \n",
        "      # т.е. находимся в разрыве между заниями      \n",
        "\n",
        "      if not (x_right_roof is None):\n",
        "        # Список всех зданий внутри интервала \"текущей крыши\"\n",
        "        candidates = list(filter(lambda b: pos[0]<=b[0]<=x_right_roof and b[2]>pos[1], buildings)) \n",
        "      else:\n",
        "        # Список всех зданий правее, если мы не на крыше\n",
        "        candidates = list(filter(lambda b: pos[0]<=b[0] and b[2]>pos[1], buildings)) \n",
        "      \n",
        "      # Выбираем ближайшее правое здание (если есть из чего выбирать)     \n",
        "      if len(candidates) > 0:\n",
        "        next_right_building = sorted(candidates, key = lambda x: x[0]) \n",
        "        pos[0] = next_right_building[0][0]\n",
        "        path.append(pos.copy())\n",
        "      else:\n",
        "        # Если выбирать не из чего, двигаемся до правой границы крыши,\n",
        "        # на которой находимся\n",
        "        pos[0] = x_right_roof\n",
        "        path.append(pos.copy())\n",
        " \n",
        "  stage = stage + 1\n",
        "  \n",
        "  # Аварийное завершение цикла (если за предельное числов итераций алгоритм \n",
        "  # не завершилося: это признак ошибки в ИД или в алгоритме)\n",
        "  if stage > len(buildings)*3:\n",
        "    print('Достигнут предел итераций. Выход. Что-то не так...')\n",
        "    break \n",
        "\n",
        "path = np.array(path)"
      ],
      "execution_count": 0,
      "outputs": []
    },
    {
      "cell_type": "code",
      "metadata": {
        "id": "J5zVVuZHTwJH",
        "colab_type": "code",
        "outputId": "cb590fb9-ff99-4b77-c39e-ec6fe388d902",
        "colab": {
          "base_uri": "https://localhost:8080/",
          "height": 286
        }
      },
      "source": [
        "for building in buildings:\n",
        "  xy = get_building_polygon(building)\n",
        "  plt.plot(xy[:,0],xy[:,1],lw=3)\n",
        "  \n",
        "plt.plot(path[:,0],path[:,1],'k:',lw=3)"
      ],
      "execution_count": 0,
      "outputs": [
        {
          "output_type": "execute_result",
          "data": {
            "text/plain": [
              "[<matplotlib.lines.Line2D at 0x7f9d98ef46d8>]"
            ]
          },
          "metadata": {
            "tags": []
          },
          "execution_count": 17
        },
        {
          "output_type": "display_data",
          "data": {
            "image/png": "[encoded data removed]",
            "text/plain": [
              "<Figure size 432x288 with 1 Axes>"
            ]
          },
          "metadata": {
            "tags": []
          }
        }
      ]
    }
  ]
}
